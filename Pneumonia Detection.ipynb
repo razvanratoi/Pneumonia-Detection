{
 "cells": [
  {
   "cell_type": "code",
   "execution_count": 1,
   "id": "9fe9d20a",
   "metadata": {},
   "outputs": [],
   "source": [
    "import tensorflow as tf\n",
    "from tensorflow.keras.models import Sequential\n",
    "from tensorflow.keras.layers import Conv2D, MaxPooling2D, Flatten, Dense\n",
    "from tensorflow.keras.preprocessing.image import ImageDataGenerator"
   ]
  },
  {
   "cell_type": "code",
   "execution_count": 2,
   "id": "bace3fa5",
   "metadata": {},
   "outputs": [],
   "source": [
    "image_dims = 128\n",
    "batch_size = 64"
   ]
  },
  {
   "cell_type": "code",
   "execution_count": 3,
   "id": "ddc23c70",
   "metadata": {},
   "outputs": [],
   "source": [
    "model = Sequential([\n",
    "    Conv2D(64, (3, 3), activation='relu', input_shape=(image_dims, image_dims, 3)),\n",
    "    MaxPooling2D(2, 2),\n",
    "    Conv2D(64, (3, 3), activation='relu'),\n",
    "    MaxPooling2D(2, 2),\n",
    "    Conv2D(64, (3, 3), activation='relu'),\n",
    "    MaxPooling2D(2, 2),\n",
    "    Flatten(),\n",
    "    Dense(128, activation='relu'),\n",
    "    Dense(1, activation='sigmoid')\n",
    "])"
   ]
  },
  {
   "cell_type": "code",
   "execution_count": 4,
   "id": "d80924e6",
   "metadata": {},
   "outputs": [
    {
     "name": "stdout",
     "output_type": "stream",
     "text": [
      "Model: \"sequential\"\n",
      "_________________________________________________________________\n",
      " Layer (type)                Output Shape              Param #   \n",
      "=================================================================\n",
      " conv2d (Conv2D)             (None, 126, 126, 64)      1792      \n",
      "                                                                 \n",
      " max_pooling2d (MaxPooling2  (None, 63, 63, 64)        0         \n",
      " D)                                                              \n",
      "                                                                 \n",
      " conv2d_1 (Conv2D)           (None, 61, 61, 64)        36928     \n",
      "                                                                 \n",
      " max_pooling2d_1 (MaxPoolin  (None, 30, 30, 64)        0         \n",
      " g2D)                                                            \n",
      "                                                                 \n",
      " conv2d_2 (Conv2D)           (None, 28, 28, 64)        36928     \n",
      "                                                                 \n",
      " max_pooling2d_2 (MaxPoolin  (None, 14, 14, 64)        0         \n",
      " g2D)                                                            \n",
      "                                                                 \n",
      " flatten (Flatten)           (None, 12544)             0         \n",
      "                                                                 \n",
      " dense (Dense)               (None, 128)               1605760   \n",
      "                                                                 \n",
      " dense_1 (Dense)             (None, 1)                 129       \n",
      "                                                                 \n",
      "=================================================================\n",
      "Total params: 1681537 (6.41 MB)\n",
      "Trainable params: 1681537 (6.41 MB)\n",
      "Non-trainable params: 0 (0.00 Byte)\n",
      "_________________________________________________________________\n"
     ]
    }
   ],
   "source": [
    "model.summary()"
   ]
  },
  {
   "cell_type": "code",
   "execution_count": 5,
   "id": "aa4def02",
   "metadata": {},
   "outputs": [],
   "source": [
    "# Compile the model\n",
    "model.compile(optimizer='adam', loss='binary_crossentropy', metrics=['accuracy'])"
   ]
  },
  {
   "cell_type": "code",
   "execution_count": 6,
   "id": "0f76c60c",
   "metadata": {},
   "outputs": [],
   "source": [
    "input_path = './chest_xray/'"
   ]
  },
  {
   "cell_type": "code",
   "execution_count": 7,
   "id": "a0bac8f1",
   "metadata": {},
   "outputs": [
    {
     "name": "stdout",
     "output_type": "stream",
     "text": [
      "Found 5216 images belonging to 2 classes.\n"
     ]
    }
   ],
   "source": [
    "# Training data generator\n",
    "training_data_generator = ImageDataGenerator(rescale=1./255, shear_range=0.2, zoom_range=0.2, horizontal_flip=True)\n",
    "training_gen = training_data_generator.flow_from_directory(\n",
    "    directory=input_path+'train',\n",
    "    target_size=(image_dims, image_dims),\n",
    "    batch_size=batch_size,\n",
    "    class_mode='binary'\n",
    ")"
   ]
  },
  {
   "cell_type": "code",
   "execution_count": 8,
   "id": "dbc58221",
   "metadata": {},
   "outputs": [
    {
     "name": "stdout",
     "output_type": "stream",
     "text": [
      "Found 16 images belonging to 2 classes.\n"
     ]
    }
   ],
   "source": [
    "# Validation data generator\n",
    "validation_data_generator = ImageDataGenerator(rescale=1./255)\n",
    "validation_gen = validation_data_generator.flow_from_directory(\n",
    "    directory=input_path+'val',\n",
    "    target_size=(image_dims, image_dims),\n",
    "    batch_size=batch_size,\n",
    "    class_mode='binary'\n",
    ")"
   ]
  },
  {
   "cell_type": "code",
   "execution_count": 9,
   "id": "7d1f568f",
   "metadata": {},
   "outputs": [
    {
     "name": "stdout",
     "output_type": "stream",
     "text": [
      "Epoch 1/5\n",
      "10/10 [==============================] - 37s 3s/step - loss: 0.5726 - accuracy: 0.7344 - val_loss: 0.7714 - val_accuracy: 0.5000\n",
      "Epoch 2/5\n",
      "10/10 [==============================] - 37s 4s/step - loss: 0.5544 - accuracy: 0.7375 - val_loss: 0.5629 - val_accuracy: 0.8750\n",
      "Epoch 3/5\n",
      "10/10 [==============================] - 37s 4s/step - loss: 0.5188 - accuracy: 0.7609 - val_loss: 0.4918 - val_accuracy: 0.7500\n",
      "Epoch 4/5\n",
      "10/10 [==============================] - 32s 3s/step - loss: 0.3617 - accuracy: 0.8536 - val_loss: 0.5408 - val_accuracy: 0.6875\n",
      "Epoch 5/5\n",
      "10/10 [==============================] - 35s 3s/step - loss: 0.2971 - accuracy: 0.8656 - val_loss: 0.4993 - val_accuracy: 0.7500\n"
     ]
    }
   ],
   "source": [
    "# Train the model\n",
    "epochs = 5\n",
    "history = model.fit(\n",
    "    training_gen,\n",
    "    steps_per_epoch=10,\n",
    "    epochs=epochs,\n",
    "    validation_data=validation_gen,\n",
    "    validation_steps=len(validation_gen)  \n",
    ")"
   ]
  },
  {
   "cell_type": "code",
   "execution_count": 10,
   "id": "c396f262",
   "metadata": {},
   "outputs": [
    {
     "name": "stdout",
     "output_type": "stream",
     "text": [
      "Found 624 images belonging to 2 classes.\n"
     ]
    }
   ],
   "source": [
    "# Test data generator\n",
    "test_data_generator = ImageDataGenerator(rescale=1./255)\n",
    "test_gen = test_data_generator.flow_from_directory(\n",
    "    directory=input_path+'test',\n",
    "    target_size=(image_dims, image_dims),\n",
    "    batch_size=128,\n",
    "    class_mode='binary'\n",
    ")"
   ]
  },
  {
   "cell_type": "code",
   "execution_count": 11,
   "id": "109b6c66",
   "metadata": {},
   "outputs": [
    {
     "name": "stdout",
     "output_type": "stream",
     "text": [
      "5/5 [==============================] - 13s 3s/step - loss: 0.4347 - accuracy: 0.7933\n",
      "Loss on evaluation data: 0.43469586968421936\n",
      "Accuracy on evaluation data: 0.7932692170143127\n"
     ]
    }
   ],
   "source": [
    "# Evaluate the model on test data\n",
    "eval_result = model.evaluate(test_gen)\n",
    "print('Loss on evaluation data:', eval_result[0])\n",
    "print('Accuracy on evaluation data:', eval_result[1])"
   ]
  },
  {
   "cell_type": "code",
   "execution_count": 13,
   "id": "75584c6c",
   "metadata": {},
   "outputs": [],
   "source": [
    "model.save('Pneumonia_Detection_model.keras')"
   ]
  }
 ],
 "metadata": {
  "kernelspec": {
   "display_name": "Python 3",
   "language": "python",
   "name": "python3"
  },
  "language_info": {
   "codemirror_mode": {
    "name": "ipython",
    "version": 3
   },
   "file_extension": ".py",
   "mimetype": "text/x-python",
   "name": "python",
   "nbconvert_exporter": "python",
   "pygments_lexer": "ipython3",
   "version": "3.11.4"
  }
 },
 "nbformat": 4,
 "nbformat_minor": 5
}
